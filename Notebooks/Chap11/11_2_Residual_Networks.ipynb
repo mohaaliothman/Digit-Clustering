{
  "nbformat": 4,
  "nbformat_minor": 0,
  "metadata": {
    "colab": {
      "provenance": [],
      "include_colab_link": true
    },
    "kernelspec": {
      "name": "python3",
      "display_name": "Python 3"
    },
    "language_info": {
      "name": "python"
    }
  },
  "cells": [
    {
      "cell_type": "markdown",
      "metadata": {
        "id": "view-in-github",
        "colab_type": "text"
      },
      "source": [
        "<a href=\"https://colab.research.google.com/github/mohaaliothman/Digit-Clustering/blob/main/Notebooks/Chap11/11_2_Residual_Networks.ipynb\" target=\"_parent\"><img src=\"https://colab.research.google.com/assets/colab-badge.svg\" alt=\"Open In Colab\"/></a>"
      ]
    },
    {
      "cell_type": "markdown",
      "source": [
        "# **Notebook 11.2: Residual Networks**\n",
        "\n",
        "This notebook adapts the networks for MNIST1D to use residual connections.\n",
        "\n",
        "Work through the cells below, running each cell in turn. In various places you will see the words \"TO DO\". Follow the instructions at these places and make predictions about what is going to happen or write code to complete the functions.\n",
        "\n",
        "Contact me at udlbookmail@gmail.com if you find any mistakes or have any suggestions.\n",
        "\n"
      ],
      "metadata": {
        "id": "t9vk9Elugvmi"
      }
    },
    {
      "cell_type": "code",
      "source": [
        "# Run this if you're in a Colab to install MNIST 1D repository\n",
        "!pip install git+https://github.com/greydanus/mnist1d"
      ],
      "metadata": {
        "id": "D5yLObtZCi9J",
        "outputId": "2da28aec-84a3-4efd-a5b5-b2d1dab29740",
        "colab": {
          "base_uri": "https://localhost:8080/"
        }
      },
      "execution_count": 1,
      "outputs": [
        {
          "output_type": "stream",
          "name": "stdout",
          "text": [
            "Collecting git+https://github.com/greydanus/mnist1d\n",
            "  Cloning https://github.com/greydanus/mnist1d to /tmp/pip-req-build-g4ebyv5y\n",
            "  Running command git clone --filter=blob:none --quiet https://github.com/greydanus/mnist1d /tmp/pip-req-build-g4ebyv5y\n",
            "  Resolved https://github.com/greydanus/mnist1d to commit 7878d96082abd200c546a07a4101fa90b30fdf7e\n",
            "  Installing build dependencies ... \u001b[?25l\u001b[?25hdone\n",
            "  Getting requirements to build wheel ... \u001b[?25l\u001b[?25hdone\n",
            "  Preparing metadata (pyproject.toml) ... \u001b[?25l\u001b[?25hdone\n",
            "Requirement already satisfied: requests in /usr/local/lib/python3.10/dist-packages (from mnist1d==0.0.2.post16) (2.32.3)\n",
            "Requirement already satisfied: numpy in /usr/local/lib/python3.10/dist-packages (from mnist1d==0.0.2.post16) (1.26.4)\n",
            "Requirement already satisfied: matplotlib in /usr/local/lib/python3.10/dist-packages (from mnist1d==0.0.2.post16) (3.8.0)\n",
            "Requirement already satisfied: scipy in /usr/local/lib/python3.10/dist-packages (from mnist1d==0.0.2.post16) (1.13.1)\n",
            "Requirement already satisfied: contourpy>=1.0.1 in /usr/local/lib/python3.10/dist-packages (from matplotlib->mnist1d==0.0.2.post16) (1.3.1)\n",
            "Requirement already satisfied: cycler>=0.10 in /usr/local/lib/python3.10/dist-packages (from matplotlib->mnist1d==0.0.2.post16) (0.12.1)\n",
            "Requirement already satisfied: fonttools>=4.22.0 in /usr/local/lib/python3.10/dist-packages (from matplotlib->mnist1d==0.0.2.post16) (4.55.0)\n",
            "Requirement already satisfied: kiwisolver>=1.0.1 in /usr/local/lib/python3.10/dist-packages (from matplotlib->mnist1d==0.0.2.post16) (1.4.7)\n",
            "Requirement already satisfied: packaging>=20.0 in /usr/local/lib/python3.10/dist-packages (from matplotlib->mnist1d==0.0.2.post16) (24.2)\n",
            "Requirement already satisfied: pillow>=6.2.0 in /usr/local/lib/python3.10/dist-packages (from matplotlib->mnist1d==0.0.2.post16) (11.0.0)\n",
            "Requirement already satisfied: pyparsing>=2.3.1 in /usr/local/lib/python3.10/dist-packages (from matplotlib->mnist1d==0.0.2.post16) (3.2.0)\n",
            "Requirement already satisfied: python-dateutil>=2.7 in /usr/local/lib/python3.10/dist-packages (from matplotlib->mnist1d==0.0.2.post16) (2.8.2)\n",
            "Requirement already satisfied: charset-normalizer<4,>=2 in /usr/local/lib/python3.10/dist-packages (from requests->mnist1d==0.0.2.post16) (3.4.0)\n",
            "Requirement already satisfied: idna<4,>=2.5 in /usr/local/lib/python3.10/dist-packages (from requests->mnist1d==0.0.2.post16) (3.10)\n",
            "Requirement already satisfied: urllib3<3,>=1.21.1 in /usr/local/lib/python3.10/dist-packages (from requests->mnist1d==0.0.2.post16) (2.2.3)\n",
            "Requirement already satisfied: certifi>=2017.4.17 in /usr/local/lib/python3.10/dist-packages (from requests->mnist1d==0.0.2.post16) (2024.8.30)\n",
            "Requirement already satisfied: six>=1.5 in /usr/local/lib/python3.10/dist-packages (from python-dateutil>=2.7->matplotlib->mnist1d==0.0.2.post16) (1.16.0)\n",
            "Building wheels for collected packages: mnist1d\n",
            "  Building wheel for mnist1d (pyproject.toml) ... \u001b[?25l\u001b[?25hdone\n",
            "  Created wheel for mnist1d: filename=mnist1d-0.0.2.post16-py3-none-any.whl size=14626 sha256=d46c651d5293baf0d359700d6a8a90697818f67e5399aeefa60796319d5d50e2\n",
            "  Stored in directory: /tmp/pip-ephem-wheel-cache-ts7mz1fz/wheels/41/95/55/45fcf7d38cfa97e35682da6c5017d4513729131326ce935371\n",
            "Successfully built mnist1d\n",
            "Installing collected packages: mnist1d\n",
            "Successfully installed mnist1d-0.0.2.post16\n"
          ]
        }
      ]
    },
    {
      "cell_type": "code",
      "source": [
        "import numpy as np\n",
        "import os\n",
        "import torch, torch.nn as nn\n",
        "from torch.utils.data import TensorDataset, DataLoader\n",
        "from torch.optim.lr_scheduler import StepLR\n",
        "import matplotlib.pyplot as plt\n",
        "import mnist1d\n",
        "import random"
      ],
      "metadata": {
        "id": "YrXWAH7sUWvU"
      },
      "execution_count": 2,
      "outputs": []
    },
    {
      "cell_type": "code",
      "source": [
        "args = mnist1d.data.get_dataset_args()\n",
        "data = mnist1d.data.get_dataset(args, path='./mnist1d_data.pkl', download=False, regenerate=False)\n",
        "\n",
        "# The training and test input and outputs are in\n",
        "# data['x'], data['y'], data['x_test'], and data['y_test']\n",
        "print(\"Examples in training set: {}\".format(len(data['y'])))\n",
        "print(\"Examples in test set: {}\".format(len(data['y_test'])))\n",
        "print(\"Length of each example: {}\".format(data['x'].shape[-1]))"
      ],
      "metadata": {
        "id": "twI72ZCrCt5z",
        "outputId": "85c39ef1-85da-4b18-b805-c7661426bc02",
        "colab": {
          "base_uri": "https://localhost:8080/"
        }
      },
      "execution_count": 3,
      "outputs": [
        {
          "output_type": "stream",
          "name": "stdout",
          "text": [
            "Did or could not load data from ./mnist1d_data.pkl. Rebuilding dataset...\n",
            "Examples in training set: 4000\n",
            "Examples in test set: 1000\n",
            "Length of each example: 40\n"
          ]
        }
      ]
    },
    {
      "cell_type": "code",
      "source": [
        "# Load in the data\n",
        "train_data_x = data['x'].transpose()\n",
        "train_data_y = data['y']\n",
        "val_data_x = data['x_test'].transpose()\n",
        "val_data_y = data['y_test']\n",
        "# Print out sizes\n",
        "print(\"Train data: %d examples (columns), each of which has %d dimensions (rows)\"%((train_data_x.shape[1],train_data_x.shape[0])))\n",
        "print(\"Validation data: %d examples (columns), each of which has %d dimensions (rows)\"%((val_data_x.shape[1],val_data_x.shape[0])))"
      ],
      "metadata": {
        "id": "8bKADvLHbiV5",
        "outputId": "48e4b1fe-d2ec-4665-d63a-23d3484ac5df",
        "colab": {
          "base_uri": "https://localhost:8080/"
        }
      },
      "execution_count": 4,
      "outputs": [
        {
          "output_type": "stream",
          "name": "stdout",
          "text": [
            "Train data: 4000 examples (columns), each of which has 40 dimensions (rows)\n",
            "Validation data: 1000 examples (columns), each of which has 40 dimensions (rows)\n"
          ]
        }
      ]
    },
    {
      "cell_type": "markdown",
      "source": [
        "Define the network"
      ],
      "metadata": {
        "id": "_sFvRDGrl4qe"
      }
    },
    {
      "cell_type": "code",
      "source": [
        "# There are 40 input dimensions and 10 output dimensions for this data\n",
        "# The inputs correspond to the 40 offsets in the MNIST1D template.\n",
        "D_i = 40\n",
        "# The outputs correspond to the 10 digits\n",
        "D_o = 10\n",
        "\n",
        "\n",
        "# We will adapt this model to have residual connections around the linear layers\n",
        "# This is the same model we used in practical 8.1, but we can't use the sequential\n",
        "# class for residual networks (which aren't strictly sequential).  Hence, I've rewritten\n",
        "# it as a model that inherits from a base class\n",
        "\n",
        "class ResidualNetwork(torch.nn.Module):\n",
        "  def __init__(self, input_size, output_size, hidden_size=100):\n",
        "    super(ResidualNetwork, self).__init__()\n",
        "    self.linear1 = nn.Linear(input_size, hidden_size)\n",
        "    self.linear2 = nn.Linear(hidden_size, hidden_size)\n",
        "    self.linear3 = nn.Linear(hidden_size, hidden_size)\n",
        "    self.linear4 = nn.Linear(hidden_size, output_size)\n",
        "    print(\"Initialized MLPBase model with {} parameters\".format(self.count_params()))\n",
        "\n",
        "  def count_params(self):\n",
        "    return sum([p.view(-1).shape[0] for p in self.parameters()])\n",
        "\n",
        "# TODO -- Add residual connections to this model\n",
        "# The order of operations within each block should similar to figure 11.5b\n",
        "# ie., linear1 first, ReLU+linear2 in first residual block, ReLU+linear3 in second residual block), linear4 at end\n",
        "# Replace this function\n",
        "  def forward(self, x):\n",
        "    h1 = self.linear1(x).relu()\n",
        "    h2 = self.linear2(h1).relu()\n",
        "    h3 = self.linear3(h2).relu()\n",
        "    return self.linear4(h3)\n"
      ],
      "metadata": {
        "id": "FslroPJJffrh"
      },
      "execution_count": 5,
      "outputs": []
    },
    {
      "cell_type": "code",
      "source": [
        "# He initialization of weights\n",
        "def weights_init(layer_in):\n",
        "  if isinstance(layer_in, nn.Linear):\n",
        "    nn.init.kaiming_uniform_(layer_in.weight)\n",
        "    layer_in.bias.data.fill_(0.0)"
      ],
      "metadata": {
        "id": "YgLaex1pfhqz"
      },
      "execution_count": 6,
      "outputs": []
    },
    {
      "cell_type": "code",
      "source": [
        "#Define the model\n",
        "model = ResidualNetwork(40, 10)\n",
        "\n",
        "# choose cross entropy loss function (equation 5.24 in the loss notes)\n",
        "loss_function = nn.CrossEntropyLoss()\n",
        "# construct SGD optimizer and initialize learning rate and momentum\n",
        "optimizer = torch.optim.SGD(model.parameters(), lr = 0.05, momentum=0.9)\n",
        "# object that decreases learning rate by half every 20 epochs\n",
        "scheduler = StepLR(optimizer, step_size=20, gamma=0.5)\n",
        "# convert data to torch tensors\n",
        "x_train = torch.tensor(train_data_x.transpose().astype('float32'))\n",
        "y_train = torch.tensor(train_data_y.astype('long'))\n",
        "x_val= torch.tensor(val_data_x.transpose().astype('float32'))\n",
        "y_val = torch.tensor(val_data_y.astype('long'))\n",
        "\n",
        "# load the data into a class that creates the batches\n",
        "data_loader = DataLoader(TensorDataset(x_train,y_train), batch_size=100, shuffle=True, worker_init_fn=np.random.seed(1))\n",
        "\n",
        "# Initialize model weights\n",
        "model.apply(weights_init)\n",
        "\n",
        "# loop over the dataset n_epoch times\n",
        "n_epoch = 100\n",
        "# store the loss and the % correct at each epoch\n",
        "losses_train = np.zeros((n_epoch))\n",
        "errors_train = np.zeros((n_epoch))\n",
        "losses_val = np.zeros((n_epoch))\n",
        "errors_val = np.zeros((n_epoch))\n",
        "\n",
        "for epoch in range(n_epoch):\n",
        "  # loop over batches\n",
        "  for i, data in enumerate(data_loader):\n",
        "    # retrieve inputs and labels for this batch\n",
        "    x_batch, y_batch = data\n",
        "    # zero the parameter gradients\n",
        "    optimizer.zero_grad()\n",
        "    # forward pass -- calculate model output\n",
        "    pred = model(x_batch)\n",
        "    # compute the loss\n",
        "    loss = loss_function(pred, y_batch)\n",
        "    # backward pass\n",
        "    loss.backward()\n",
        "    # SGD update\n",
        "    optimizer.step()\n",
        "\n",
        "  # Run whole dataset to get statistics -- normally wouldn't do this\n",
        "  pred_train = model(x_train)\n",
        "  pred_val = model(x_val)\n",
        "  _, predicted_train_class = torch.max(pred_train.data, 1)\n",
        "  _, predicted_val_class = torch.max(pred_val.data, 1)\n",
        "  errors_train[epoch] = 100 - 100 * (predicted_train_class == y_train).float().sum() / len(y_train)\n",
        "  errors_val[epoch]= 100 - 100 * (predicted_val_class == y_val).float().sum() / len(y_val)\n",
        "  losses_train[epoch] = loss_function(pred_train, y_train).item()\n",
        "  losses_val[epoch]= loss_function(pred_val, y_val).item()\n",
        "  print(f'Epoch {epoch:5d}, train loss {losses_train[epoch]:.6f}, train error {errors_train[epoch]:3.2f},  val loss {losses_val[epoch]:.6f}, percent error {errors_val[epoch]:3.2f}')\n",
        "\n",
        "  # tell scheduler to consider updating learning rate\n",
        "  scheduler.step()"
      ],
      "metadata": {
        "id": "NYw8I_3mmX5c",
        "outputId": "87cc88a2-b300-455d-f632-65523ddb4a25",
        "colab": {
          "base_uri": "https://localhost:8080/"
        }
      },
      "execution_count": 7,
      "outputs": [
        {
          "output_type": "stream",
          "name": "stdout",
          "text": [
            "Initialized MLPBase model with 25310 parameters\n",
            "Epoch     0, train loss 1.581533, train error 60.03,  val loss 1.651607, percent error 64.20\n",
            "Epoch     1, train loss 1.283337, train error 47.95,  val loss 1.435934, percent error 54.90\n",
            "Epoch     2, train loss 1.114095, train error 41.12,  val loss 1.322291, percent error 51.30\n",
            "Epoch     3, train loss 0.939224, train error 32.97,  val loss 1.225813, percent error 47.80\n",
            "Epoch     4, train loss 0.824998, train error 29.68,  val loss 1.199782, percent error 44.50\n",
            "Epoch     5, train loss 0.704914, train error 24.57,  val loss 1.164801, percent error 43.20\n",
            "Epoch     6, train loss 0.631892, train error 21.97,  val loss 1.079474, percent error 38.70\n",
            "Epoch     7, train loss 0.567623, train error 20.55,  val loss 1.132882, percent error 40.10\n",
            "Epoch     8, train loss 0.453133, train error 15.55,  val loss 1.097370, percent error 39.50\n",
            "Epoch     9, train loss 0.461369, train error 16.43,  val loss 1.193382, percent error 39.80\n",
            "Epoch    10, train loss 0.387248, train error 13.40,  val loss 1.128509, percent error 38.70\n",
            "Epoch    11, train loss 0.293946, train error 9.90,  val loss 1.190586, percent error 36.40\n",
            "Epoch    12, train loss 0.236126, train error 7.55,  val loss 1.189305, percent error 37.70\n",
            "Epoch    13, train loss 0.198829, train error 6.15,  val loss 1.178108, percent error 35.30\n",
            "Epoch    14, train loss 0.293865, train error 10.60,  val loss 1.388622, percent error 37.30\n",
            "Epoch    15, train loss 0.198402, train error 6.75,  val loss 1.376790, percent error 36.30\n",
            "Epoch    16, train loss 0.225718, train error 8.03,  val loss 1.379182, percent error 36.10\n",
            "Epoch    17, train loss 0.180077, train error 6.32,  val loss 1.338458, percent error 37.00\n",
            "Epoch    18, train loss 0.148035, train error 5.18,  val loss 1.380949, percent error 34.80\n",
            "Epoch    19, train loss 0.136605, train error 4.38,  val loss 1.446611, percent error 35.60\n",
            "Epoch    20, train loss 0.040180, train error 0.50,  val loss 1.346266, percent error 34.20\n",
            "Epoch    21, train loss 0.017795, train error 0.00,  val loss 1.324437, percent error 32.70\n",
            "Epoch    22, train loss 0.012198, train error 0.00,  val loss 1.377517, percent error 32.80\n",
            "Epoch    23, train loss 0.010025, train error 0.00,  val loss 1.392009, percent error 33.00\n",
            "Epoch    24, train loss 0.008265, train error 0.00,  val loss 1.420083, percent error 32.60\n",
            "Epoch    25, train loss 0.007316, train error 0.00,  val loss 1.442599, percent error 32.60\n",
            "Epoch    26, train loss 0.006535, train error 0.00,  val loss 1.459140, percent error 32.70\n",
            "Epoch    27, train loss 0.005934, train error 0.00,  val loss 1.479776, percent error 32.80\n",
            "Epoch    28, train loss 0.005461, train error 0.00,  val loss 1.490624, percent error 32.30\n",
            "Epoch    29, train loss 0.005006, train error 0.00,  val loss 1.505811, percent error 32.60\n",
            "Epoch    30, train loss 0.004646, train error 0.00,  val loss 1.520140, percent error 32.30\n",
            "Epoch    31, train loss 0.004340, train error 0.00,  val loss 1.530625, percent error 32.00\n",
            "Epoch    32, train loss 0.004071, train error 0.00,  val loss 1.541657, percent error 31.90\n",
            "Epoch    33, train loss 0.003830, train error 0.00,  val loss 1.555860, percent error 31.90\n",
            "Epoch    34, train loss 0.003625, train error 0.00,  val loss 1.563586, percent error 32.00\n",
            "Epoch    35, train loss 0.003440, train error 0.00,  val loss 1.574645, percent error 31.90\n",
            "Epoch    36, train loss 0.003277, train error 0.00,  val loss 1.580819, percent error 31.80\n",
            "Epoch    37, train loss 0.003122, train error 0.00,  val loss 1.594925, percent error 32.10\n",
            "Epoch    38, train loss 0.003001, train error 0.00,  val loss 1.604129, percent error 32.50\n",
            "Epoch    39, train loss 0.002849, train error 0.00,  val loss 1.608240, percent error 32.10\n",
            "Epoch    40, train loss 0.002788, train error 0.00,  val loss 1.613454, percent error 32.10\n",
            "Epoch    41, train loss 0.002733, train error 0.00,  val loss 1.616345, percent error 32.10\n",
            "Epoch    42, train loss 0.002680, train error 0.00,  val loss 1.621098, percent error 32.10\n",
            "Epoch    43, train loss 0.002628, train error 0.00,  val loss 1.623408, percent error 32.10\n",
            "Epoch    44, train loss 0.002580, train error 0.00,  val loss 1.628759, percent error 32.20\n",
            "Epoch    45, train loss 0.002531, train error 0.00,  val loss 1.631975, percent error 32.40\n",
            "Epoch    46, train loss 0.002485, train error 0.00,  val loss 1.634812, percent error 32.30\n",
            "Epoch    47, train loss 0.002441, train error 0.00,  val loss 1.639167, percent error 32.30\n",
            "Epoch    48, train loss 0.002398, train error 0.00,  val loss 1.641921, percent error 32.30\n",
            "Epoch    49, train loss 0.002358, train error 0.00,  val loss 1.645279, percent error 32.30\n",
            "Epoch    50, train loss 0.002317, train error 0.00,  val loss 1.648957, percent error 32.10\n",
            "Epoch    51, train loss 0.002278, train error 0.00,  val loss 1.651659, percent error 32.10\n",
            "Epoch    52, train loss 0.002241, train error 0.00,  val loss 1.655926, percent error 32.20\n",
            "Epoch    53, train loss 0.002204, train error 0.00,  val loss 1.658245, percent error 32.30\n",
            "Epoch    54, train loss 0.002170, train error 0.00,  val loss 1.662005, percent error 32.40\n",
            "Epoch    55, train loss 0.002135, train error 0.00,  val loss 1.664155, percent error 32.30\n",
            "Epoch    56, train loss 0.002102, train error 0.00,  val loss 1.667509, percent error 32.20\n",
            "Epoch    57, train loss 0.002070, train error 0.00,  val loss 1.671143, percent error 32.00\n",
            "Epoch    58, train loss 0.002038, train error 0.00,  val loss 1.672751, percent error 32.00\n",
            "Epoch    59, train loss 0.002008, train error 0.00,  val loss 1.676052, percent error 32.10\n",
            "Epoch    60, train loss 0.001993, train error 0.00,  val loss 1.678066, percent error 32.10\n",
            "Epoch    61, train loss 0.001978, train error 0.00,  val loss 1.679265, percent error 32.10\n",
            "Epoch    62, train loss 0.001964, train error 0.00,  val loss 1.681048, percent error 32.20\n",
            "Epoch    63, train loss 0.001950, train error 0.00,  val loss 1.682191, percent error 32.20\n",
            "Epoch    64, train loss 0.001936, train error 0.00,  val loss 1.683779, percent error 32.20\n",
            "Epoch    65, train loss 0.001922, train error 0.00,  val loss 1.685120, percent error 32.10\n",
            "Epoch    66, train loss 0.001908, train error 0.00,  val loss 1.686567, percent error 32.20\n",
            "Epoch    67, train loss 0.001895, train error 0.00,  val loss 1.687685, percent error 32.10\n",
            "Epoch    68, train loss 0.001882, train error 0.00,  val loss 1.689549, percent error 32.10\n",
            "Epoch    69, train loss 0.001869, train error 0.00,  val loss 1.689993, percent error 32.20\n",
            "Epoch    70, train loss 0.001857, train error 0.00,  val loss 1.691822, percent error 32.30\n",
            "Epoch    71, train loss 0.001844, train error 0.00,  val loss 1.693288, percent error 32.30\n",
            "Epoch    72, train loss 0.001832, train error 0.00,  val loss 1.694852, percent error 32.20\n",
            "Epoch    73, train loss 0.001819, train error 0.00,  val loss 1.695879, percent error 32.20\n",
            "Epoch    74, train loss 0.001807, train error 0.00,  val loss 1.696997, percent error 32.20\n",
            "Epoch    75, train loss 0.001795, train error 0.00,  val loss 1.698577, percent error 32.20\n",
            "Epoch    76, train loss 0.001784, train error 0.00,  val loss 1.699662, percent error 32.20\n",
            "Epoch    77, train loss 0.001771, train error 0.00,  val loss 1.700894, percent error 32.20\n",
            "Epoch    78, train loss 0.001760, train error 0.00,  val loss 1.701737, percent error 32.20\n",
            "Epoch    79, train loss 0.001749, train error 0.00,  val loss 1.703423, percent error 32.20\n",
            "Epoch    80, train loss 0.001743, train error 0.00,  val loss 1.704039, percent error 32.20\n",
            "Epoch    81, train loss 0.001737, train error 0.00,  val loss 1.704701, percent error 32.20\n",
            "Epoch    82, train loss 0.001732, train error 0.00,  val loss 1.705476, percent error 32.20\n",
            "Epoch    83, train loss 0.001726, train error 0.00,  val loss 1.706037, percent error 32.20\n",
            "Epoch    84, train loss 0.001721, train error 0.00,  val loss 1.706725, percent error 32.20\n",
            "Epoch    85, train loss 0.001715, train error 0.00,  val loss 1.707231, percent error 32.20\n",
            "Epoch    86, train loss 0.001710, train error 0.00,  val loss 1.707765, percent error 32.20\n",
            "Epoch    87, train loss 0.001705, train error 0.00,  val loss 1.708626, percent error 32.20\n",
            "Epoch    88, train loss 0.001699, train error 0.00,  val loss 1.709225, percent error 32.20\n",
            "Epoch    89, train loss 0.001694, train error 0.00,  val loss 1.709820, percent error 32.20\n",
            "Epoch    90, train loss 0.001689, train error 0.00,  val loss 1.710582, percent error 32.20\n",
            "Epoch    91, train loss 0.001683, train error 0.00,  val loss 1.710995, percent error 32.20\n",
            "Epoch    92, train loss 0.001678, train error 0.00,  val loss 1.711518, percent error 32.20\n",
            "Epoch    93, train loss 0.001673, train error 0.00,  val loss 1.712053, percent error 32.20\n",
            "Epoch    94, train loss 0.001668, train error 0.00,  val loss 1.712691, percent error 32.10\n",
            "Epoch    95, train loss 0.001663, train error 0.00,  val loss 1.713474, percent error 32.20\n",
            "Epoch    96, train loss 0.001658, train error 0.00,  val loss 1.713948, percent error 32.10\n",
            "Epoch    97, train loss 0.001653, train error 0.00,  val loss 1.714424, percent error 32.20\n",
            "Epoch    98, train loss 0.001647, train error 0.00,  val loss 1.715449, percent error 32.00\n",
            "Epoch    99, train loss 0.001642, train error 0.00,  val loss 1.715908, percent error 32.10\n"
          ]
        }
      ]
    },
    {
      "cell_type": "code",
      "source": [
        "# Plot the results\n",
        "fig, ax = plt.subplots()\n",
        "ax.plot(errors_train,'r-',label='train')\n",
        "ax.plot(errors_val,'b-',label='test')\n",
        "ax.set_ylim(0,100); ax.set_xlim(0,n_epoch)\n",
        "ax.set_xlabel('Epoch'); ax.set_ylabel('Error')\n",
        "ax.set_title('TrainError %3.2f, Val Error %3.2f'%(errors_train[-1],errors_val[-1]))\n",
        "ax.legend()\n",
        "plt.show()"
      ],
      "metadata": {
        "id": "CcP_VyEmE2sv",
        "outputId": "fddfe853-0ee7-4796-a437-3e9d937fa651",
        "colab": {
          "base_uri": "https://localhost:8080/",
          "height": 472
        }
      },
      "execution_count": 8,
      "outputs": [
        {
          "output_type": "display_data",
          "data": {
            "text/plain": [
              "<Figure size 640x480 with 1 Axes>"
            ],
            "image/png": "[encoded data removed]"
          },
          "metadata": {}
        }
      ]
    },
    {
      "cell_type": "markdown",
      "source": [
        "The primary motivation of residual networks is to allow training of much deeper networks.   \n",
        "\n",
        "TODO: Try running this network with and without the residual connections.  Does adding the residual connections change the performance?"
      ],
      "metadata": {
        "id": "wMmqhmxuAx0M"
      }
    }
  ]
}